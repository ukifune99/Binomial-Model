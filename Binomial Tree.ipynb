{
 "cells": [
  {
   "cell_type": "code",
   "execution_count": 112,
   "metadata": {},
   "outputs": [],
   "source": [
    "from typing import List\n",
    "from copy import deepcopy\n",
    "import numpy as np"
   ]
  },
  {
   "cell_type": "markdown",
   "metadata": {},
   "source": [
    "# Parameters"
   ]
  },
  {
   "cell_type": "code",
   "execution_count": 113,
   "metadata": {},
   "outputs": [],
   "source": [
    "global u, d, r, d_r, p_tilde, q_tilde, T, S0, K, X0\n",
    "global stock_price_tree, option_value_tree, hedge_tree, portfolio_value_tree\n",
    "u = 2 \n",
    "d = 0.5 \n",
    "r = 0.25 # interest rate\n",
    "d_r = 1/(1+r) # discount rate\n",
    "p_tilde = (1+r-d) / (u-d) \n",
    "q_tilde = (u-(1+r)) / (u-d)\n",
    "T = 2 # expiration date \n",
    "S0 = 4 # initial stock price\n",
    "K = 5  # strike price\n",
    "\n",
    "\"\"\"\n",
    "    option_type denotes the type of option\n",
    "    1: European call option\n",
    "    2: American call option\n",
    "    -1: European put option\n",
    "    -2: American put option\n",
    "\"\"\"\n",
    "option_type = -2"
   ]
  },
  {
   "cell_type": "code",
   "execution_count": 114,
   "metadata": {},
   "outputs": [],
   "source": [
    "def stock_price_tree_generator() -> List[List[float]]:\n",
    "    # tree[i][j] is value in T i w.r.t j units of Tail(down)\n",
    "    stock_price_tree = [[0 for j in range(i+1)] for i in range(T+1)]\n",
    "    stock_price_tree[0][0] = S0\n",
    "    for i in range(1, T+1):\n",
    "        for j in range(i):\n",
    "            stock_price_tree[i][j] = stock_price_tree[i-1][j] * u\n",
    "        stock_price_tree[i][-1] = stock_price_tree[i-1][-1] * d\n",
    "    return stock_price_tree\n",
    "\n",
    "def option_value_tree_generator() -> List[List[float]]:\n",
    "    option_value_tree = deepcopy(stock_price_tree)\n",
    "    # generate a European option tree\n",
    "    if abs(option_type == 1):\n",
    "        for j in range(T+1):\n",
    "            option_value_tree[-1][j] = max(option_type * (stock_price_tree[-1][j] - K), 0)\n",
    "        for i in range(T-1,-1,-1):\n",
    "            for j in range(i+1):\n",
    "                option_value_tree[i][j] = d_r * (p_tilde*option_value_tree[i+1][j] + q_tilde*option_value_tree[i+1][j+1])\n",
    "    # generate a American option tree\n",
    "    else:\n",
    "        for j in range(T+1):\n",
    "            option_value_tree[-1][j] = max(option_type/2 * (stock_price_tree[-1][j] - K), 0)\n",
    "        for i in range(T-1, -1, -1):\n",
    "            for j in range(i+1):\n",
    "                cur_payoff = max(option_type/2 * (stock_price_tree[i][j] - K), 0)\n",
    "                option_value_tree[i][j] = max(cur_payoff,\\\n",
    "                                              d_r * (p_tilde*option_value_tree[i+1][j] + q_tilde*option_value_tree[i+1][j+1]))            \n",
    "    return option_value_tree\n",
    "\n",
    "def hedge_tree_generator() -> List[List[float]]:\n",
    "    hedge_tree = [[0 for j in range(i+1)] for i in range(T)]\n",
    "    for i in range(T):\n",
    "        for j in range(i+1):\n",
    "            delta_S = stock_price_tree[i+1][j] - stock_price_tree[i+1][j+1]\n",
    "            delta_V = option_value_tree[i+1][j] - option_value_tree[i+1][j+1]\n",
    "            hedge_tree[i][j] = delta_V / delta_S\n",
    "    return hedge_tree\n",
    "\n",
    "def portfolio_value_tree_generator() -> List[List[float]]:\n",
    "    portfolio_value_tree = [[0 for j in range(i+1)] for i in range(T+1)]\n",
    "    portfolio_value_tree[0][0] = X0\n",
    "    for i in range(1, T+1):\n",
    "        for j in range(i):\n",
    "            portfolio_value_tree[i][j] = hedge_tree[i-1][j]*stock_price_tree[i][j] +\\\n",
    "                  (1+r)*(portfolio_value_tree[i-1][j] - hedge_tree[i-1][j]*stock_price_tree[i-1][j])\n",
    "        portfolio_value_tree[i][-1] = hedge_tree[i-1][-1]*stock_price_tree[i][-1] +\\\n",
    "            (1+r)*(portfolio_value_tree[i-1][-1] - hedge_tree[i-1][-1] * stock_price_tree[i-1][-1])\n",
    "    return portfolio_value_tree\n"
   ]
  },
  {
   "cell_type": "code",
   "execution_count": 115,
   "metadata": {},
   "outputs": [],
   "source": [
    "stock_price_tree = stock_price_tree_generator()\n",
    "option_value_tree = option_value_tree_generator()\n",
    "hedge_tree = hedge_tree_generator()\n",
    "# X0 is the initial money\n",
    "X0 = option_value_tree[0][0]\n",
    "portfolio_value_tree = portfolio_value_tree_generator()"
   ]
  },
  {
   "cell_type": "code",
   "execution_count": 116,
   "metadata": {},
   "outputs": [
    {
     "name": "stdout",
     "output_type": "stream",
     "text": [
      "stock price:  [[4], [8, 2.0], [16, 4.0, 1.0]]\n",
      "option value:  [[1.36], [0.4, 3.0], [0, 1.0, 4.0]]\n",
      "hedge:  [[-0.43333333333333335], [-0.08333333333333333, -1.0]]\n",
      "portfolio:  [[1.36], [0.40000000000000036, 3.0000000000000004], [2.220446049250313e-16, 2.25, 5.25]]\n"
     ]
    }
   ],
   "source": [
    "print(\"stock price: \", stock_price_tree)\n",
    "print(\"option value: \", option_value_tree)\n",
    "print(\"hedge: \", hedge_tree)\n",
    "print(\"portfolio: \", portfolio_value_tree)"
   ]
  }
 ],
 "metadata": {
  "kernelspec": {
   "display_name": "Python 3",
   "language": "python",
   "name": "python3"
  },
  "language_info": {
   "codemirror_mode": {
    "name": "ipython",
    "version": 3
   },
   "file_extension": ".py",
   "mimetype": "text/x-python",
   "name": "python",
   "nbconvert_exporter": "python",
   "pygments_lexer": "ipython3",
   "version": "3.12.3"
  }
 },
 "nbformat": 4,
 "nbformat_minor": 2
}
